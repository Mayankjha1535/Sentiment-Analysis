{
 "cells": [
  {
   "cell_type": "code",
   "execution_count": 10,
   "metadata": {
    "collapsed": true
   },
   "outputs": [],
   "source": [
    "import random\n",
    "import numpy as np\n",
    "class network(object):\n",
    "    def __init__(self,sizes):\n",
    "        self.num_layers=len(sizes)\n",
    "        self.sizes = sizes\n",
    "        self.biases=[np.random.randn(y,1) for y in sizes[1:]]\n",
    "        self.weights=[np.random.randn(y,x) for x,y in zip(sizes[:-1],sizes[1:])]\n",
    "    \n",
    "    def feedforward(self,a):\n",
    "        for b,w in zip(self.biases,self.weights):\n",
    "            a=sigmoid(np.dot(w,a)+b)\n",
    "        return a\n",
    "    def SGD(self,training_data,epochs,mini_batch_size,eta,lmbda=0.0,test_data=None):\n",
    "        if test_data:\n",
    "            n_test=len(test_data)\n",
    "            n = len(training_data)\n",
    "            for j in xrange(epochs):\n",
    "                random.shuffle(training_data)\n",
    "                mini_batches=[training_data[k:k+mini_batch_size] for k in xrange(0,n,mini_batch_size)]\n",
    "                for mini_batch in mini_batches:\n",
    "                    self.update_mini_batch(mini_batch,eta,lmbda,n)\n",
    "                if test_data:\n",
    "                    print \"Epoch: {0} : {1} / {2}\".format(j,self.evaluate(test_data),n_test)\n",
    "                else:\n",
    "                    print \"Epoch: {0} completed\".format(j)\n",
    "                    \n",
    "    def update_mini_batch(self,mini_batch,eta,lmbda,n):\n",
    "        w_new=[np.zeros(w.shape) for w in self.weights]\n",
    "        b_new=[np.zeros(b.shape) for b in self.biases]\n",
    "        for x,y in mini_batch:\n",
    "            delta_b,delta_w = self.backprop(x,y)\n",
    "            w_new=[nw+dnw for nw,dnw in zip(w_new,delta_w)]\n",
    "            b_new=[nb+dnb for nb,dnb in zip(b_new,delta_b)]\n",
    "        self.weights=[(1-eta*(lmbda/n))*w-(eta/len(mini_batch))*nw for w,nw in zip(self.weights,w_new)]\n",
    "        self.biases=[b-(eta/len(mini_batch))*nb for b,nb in zip(self.biases,b_new)]\n",
    "    def backprop(self,x,y):\n",
    "        w_new=[np.zeros(w.shape) for w in self.weights]\n",
    "        b_new=[np.zeros(b.shape) for b in self.biases]\n",
    "        activation = x\n",
    "        activations= [x]\n",
    "        zs= []\n",
    "        for b,w in zip(self.biases,self.weights):\n",
    "            z=np.dot(w,activation)+b\n",
    "            zs.append(z)\n",
    "            activation =sigmoid(z)\n",
    "            activations.append(activation)\n",
    "        delta = self.cost_derivative(activations[-1],y)\n",
    "        b_new[-1]=delta\n",
    "        w_new[-1]=np.dot(delta,activations[-2].transpose())\n",
    "        for i in xrange(2,self.num_layers):\n",
    "            z=zs[-i]\n",
    "            s=sigmoid_deriv(z)\n",
    "            delta= np.dot(self.weights[-i+1].transpose(),delta)*s\n",
    "            b_new[-i]= delta\n",
    "            w_new[-i]=np.dot(delta,activations[-i-1].transpose())\n",
    "            \n",
    "        return (b_new,w_new)\n",
    "    def cost_derivative(self,output_activations,y):\n",
    "        return (output_activations-y)\n",
    "    def evaluate(self,test_data):\n",
    "        test_results=[(np.argmax (self.feedforward(x)),y) for x,y in test_data]\n",
    "        return sum(int(x==y) for x,y in test_results)\n",
    "def sigmoid(z):\n",
    "        return 1.0/(1.0+np.exp(-z))\n",
    "def sigmoid_deriv(z):\n",
    "    return sigmoid(z)*(1-sigmoid(z))        \n"
   ]
  },
  {
   "cell_type": "code",
   "execution_count": 11,
   "metadata": {
    "collapsed": true
   },
   "outputs": [],
   "source": [
    "import cPickle\n",
    "import numpy as np\n",
    "import gzip\n",
    "\n",
    "def load_data():\n",
    "    l= gzip.open('mnist.pkl.gz','rb')\n",
    "    training_data,validation_data,test_data= cPickle.load(l)\n",
    "    l.close()\n",
    "    return (training_data,validation_data,test_data)\n",
    "def load_data_wrapper():\n",
    "    tr_d,va_d,te_d = load_data()\n",
    "    training_inputs = [np.reshape(x, (784,1)) for x in tr_d[0]]\n",
    "    training_results = [result(y) for y in tr_d[1]]\n",
    "    training_data = zip(training_inputs,training_results)\n",
    "    validation_inputs = [np.reshape(x, (784,1)) for x in va_d[0]]\n",
    "    validation_data = zip(validation_inputs,va_d[1])\n",
    "    test_inputs = [np.reshape(x, (784,1)) for x in  te_d[0]]\n",
    "    test_data = zip(test_inputs,te_d[1])\n",
    "    return (training_data,validation_data,test_data)\n",
    "\n",
    "def result(j):\n",
    "    e= np.zeros((10, 1))\n",
    "    e[j]= 1.0\n",
    "    return e\n"
   ]
  },
  {
   "cell_type": "code",
   "execution_count": 12,
   "metadata": {
    "collapsed": true
   },
   "outputs": [],
   "source": [
    "training_data,validation_data,test_data = load_data_wrapper()"
   ]
  },
  {
   "cell_type": "code",
   "execution_count": 13,
   "metadata": {
    "collapsed": true
   },
   "outputs": [],
   "source": [
    "data = network([784, 30 , 10])"
   ]
  },
  {
   "cell_type": "code",
   "execution_count": 14,
   "metadata": {},
   "outputs": [
    {
     "name": "stdout",
     "output_type": "stream",
     "text": [
      "Epoch: 0 : 9060 / 10000\n",
      "Epoch: 1 : 9318 / 10000\n",
      "Epoch: 2 : 9290 / 10000\n",
      "Epoch: 3 : 9404 / 10000\n",
      "Epoch: 4 : 9472 / 10000\n",
      "Epoch: 5 : 9448 / 10000\n",
      "Epoch: 6 : 9491 / 10000\n",
      "Epoch: 7 : 9456 / 10000\n",
      "Epoch: 8 : 9560 / 10000\n",
      "Epoch: 9 : 9561 / 10000\n",
      "Epoch: 10 : 9556 / 10000\n",
      "Epoch: 11 : 9509 / 10000\n",
      "Epoch: 12 : 9555 / 10000\n",
      "Epoch: 13 : 9570 / 10000\n",
      "Epoch: 14 : 9571 / 10000\n",
      "Epoch: 15 : 9582 / 10000\n",
      "Epoch: 16 : 9531 / 10000\n",
      "Epoch: 17 : 9477 / 10000\n",
      "Epoch: 18 : 9614 / 10000\n",
      "Epoch: 19 : 9594 / 10000\n",
      "Epoch: 20 : 9531 / 10000\n",
      "Epoch: 21 : 9578 / 10000\n",
      "Epoch: 22 : 9550 / 10000\n",
      "Epoch: 23 : 9559 / 10000\n",
      "Epoch: 24 : 9585 / 10000\n",
      "Epoch: 25 : 9614 / 10000\n",
      "Epoch: 26 : 9575 / 10000\n",
      "Epoch: 27 : 9593 / 10000\n",
      "Epoch: 28 : 9594 / 10000\n",
      "Epoch: 29 : 9605 / 10000\n"
     ]
    }
   ],
   "source": [
    "data.SGD(training_data, 30, 10,0.5,lmbda=5.0, test_data=test_data)"
   ]
  },
  {
   "cell_type": "code",
   "execution_count": null,
   "metadata": {
    "collapsed": true
   },
   "outputs": [],
   "source": []
  }
 ],
 "metadata": {
  "kernelspec": {
   "display_name": "Python 2",
   "language": "python",
   "name": "python2"
  },
  "language_info": {
   "codemirror_mode": {
    "name": "ipython",
    "version": 2
   },
   "file_extension": ".py",
   "mimetype": "text/x-python",
   "name": "python",
   "nbconvert_exporter": "python",
   "pygments_lexer": "ipython2",
   "version": "2.7.14"
  }
 },
 "nbformat": 4,
 "nbformat_minor": 2
}
